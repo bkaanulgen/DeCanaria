{
  "cells": [
    {
      "cell_type": "markdown",
      "metadata": {
        "id": "DhwotVh9EOVx"
      },
      "source": [
        "# De Canaria - Regression Study\n",
        "\n",
        "Berke Kaan Ülgen\n",
        "\n",
        "b.kaanulgen@gmail.com\n",
        "\n",
        "Due 27/12/2022"
      ]
    },
    {
      "cell_type": "markdown",
      "metadata": {
        "id": "OZjjqsx2EOV0"
      },
      "source": [
        "## Preparations\n",
        "\n",
        "Importing necessary libraries"
      ]
    },
    {
      "cell_type": "code",
      "execution_count": 1,
      "metadata": {
        "id": "INAuvFLZEOV0"
      },
      "outputs": [],
      "source": [
        "import os\n",
        "import pandas as pd\n",
        "import numpy as np\n",
        "import matplotlib.pyplot as plt\n",
        "from sklearn.model_selection import train_test_split\n",
        "from sklearn.metrics import r2_score\n",
        "from lightgbm import LGBMRegressor"
      ]
    },
    {
      "cell_type": "markdown",
      "metadata": {
        "id": "HqSEPICvEOV1"
      },
      "source": [
        "Setting the seed as 1 and getting the path of the notebook file to be used later on"
      ]
    },
    {
      "cell_type": "code",
      "execution_count": 2,
      "metadata": {
        "id": "osNnTfA8EOV1"
      },
      "outputs": [],
      "source": [
        "np.random.seed(1)\n",
        "path = str(os.path.abspath('')) + '\\\\'"
      ]
    },
    {
      "cell_type": "code",
      "source": [
        "np.random.seed(1)\n",
        "path = 'https://raw.githubusercontent.com/bkaanulgen/DeCanaria/main/{}.csv'"
      ],
      "metadata": {
        "id": "cNCFrMCTFdFS"
      },
      "execution_count": 4,
      "outputs": []
    },
    {
      "cell_type": "markdown",
      "metadata": {
        "id": "9TAwgxbOEOV2"
      },
      "source": [
        "## Processing the Data\n",
        "\n",
        "Importing the training and test data sets"
      ]
    },
    {
      "cell_type": "code",
      "source": [
        "# Importing the training data sets\n",
        "df_x = pd.read_csv(path.format('X_train'))\n",
        "df_y = pd.read_csv(path.format('y_train'))\n",
        "\n",
        "# Importing the test data set\n",
        "df_test = pd.read_csv(path.format('X_test'))\n",
        "\n",
        "# Combining all of the training/test data sets in a single dataframe\n",
        "df_train_all = pd.merge(df_x, df_y, on = 'key')\n",
        "\n",
        "# Creating a separate dataframe consisting of keys\n",
        "df_key = df_test['key']"
      ],
      "metadata": {
        "id": "45-0KxJ7Eec0"
      },
      "execution_count": 7,
      "outputs": []
    },
    {
      "cell_type": "markdown",
      "metadata": {
        "id": "KOoC-ttpEOV2"
      },
      "source": [
        "Preliminary tests indicate that without using any variable of the census and market data sets as features, the model yields very low R<sup>2</sup> values. Hence, these data sets will be integrated into the training data set based on the hashed student geoid value.\n",
        "\n",
        "Importing the census and market data sets and integrating them into the training data set\n"
      ]
    },
    {
      "cell_type": "code",
      "source": [
        "# Importing the data sets\n",
        "df_gray = pd.read_csv(path.format('2022%2001%2028%20V2%20Gray%20Data'))\n",
        "df_census = pd.read_csv(path.format('2022%2001%2028%20Census%20Data%20by%20Geoid'))\n",
        "\n",
        "# Adding the market data to the training/test data sets based on the 'student_geoid_hashed' value\n",
        "df_gray.rename(columns = {'geoid_hashed': 'student_geoid_hashed'}, inplace = True)\n",
        "df_train_all = pd.merge(df_train_all, df_gray, on='student_geoid_hashed', how = 'left')\n",
        "df_test = pd.merge(df_test, df_gray, on='student_geoid_hashed', how = 'left')\n",
        "\n",
        "# Adding the census data to the training/test data sets based on the 'student_geoid_hashed' value\n",
        "df_census.rename(columns = {'geoid_hashed': 'student_geoid_hashed'}, inplace = True)\n",
        "df_train_all = pd.merge(df_train_all, df_census, on='student_geoid_hashed', how = 'left')\n",
        "df_test = pd.merge(df_test, df_census, on='student_geoid_hashed', how = 'left')"
      ],
      "metadata": {
        "id": "Kco4JKlRFJ8E"
      },
      "execution_count": 9,
      "outputs": []
    },
    {
      "cell_type": "markdown",
      "metadata": {
        "id": "lO3vsOkcEOV3"
      },
      "source": [
        "Dropping unnecessary columns and preparing X_train and Y_train sets "
      ]
    },
    {
      "cell_type": "code",
      "execution_count": 10,
      "metadata": {
        "id": "1KXXI2mIEOV3"
      },
      "outputs": [],
      "source": [
        "# Extracting the list of unique states\n",
        "s1 = df_train_all['student_state'].unique()\n",
        "s2 = df_train_all['nearest_campus_state'].unique()\n",
        "s3 = df_test['student_state'].unique()\n",
        "s4 = df_test['nearest_campus_state'].unique()\n",
        "\n",
        "# Pairing states with indices\n",
        "state_list = np.sort(np.unique(np.concatenate((s1, s2, s3, s4))))\n",
        "state_dict = dict(zip(state_list, range(len(state_list))))\n",
        "\n",
        "# Converting the states in the data sets into indices\n",
        "df_train_all = df_train_all.replace({'student_state': state_dict, 'nearest_campus_state': state_dict})\n",
        "df_test = df_test.replace({'student_state': state_dict, 'nearest_campus_state': state_dict})\n",
        "\n",
        "# Converting indices in the form of integers into categorical type\n",
        "df_train_all['student_state'] = df_train_all['student_state'].astype('category')\n",
        "df_train_all['nearest_campus_state'] = df_train_all['nearest_campus_state'].astype('category')\n",
        "df_train_all['nearest_campus_id'] = df_train_all['nearest_campus_id'].astype('category')\n",
        "df_test['student_state'] = df_test['student_state'].astype('category')\n",
        "df_test['nearest_campus_state'] = df_test['nearest_campus_state'].astype('category')\n",
        "df_test['nearest_campus_id'] = df_test['nearest_campus_id'].astype('category')\n",
        "\n",
        "# Renaming columns\n",
        "df_train_all = df_train_all.rename(columns = {'student_state': 'student_state_id', 'nearest_campus_state': 'nearest_campus_state_id'})\n",
        "df_test = df_test.rename(columns = {'student_state': 'student_state_id', 'nearest_campus_state': 'nearest_campus_state_id'})\n",
        "\n",
        "# Dropping unnecessary columns\n",
        "drop_indices = ['key', 'student_geoid_hashed', 'nearest_campus_hashed_geoid']\n",
        "df_test = df_test.drop(drop_indices, axis = 1)\n",
        "drop_indices += ['starts']\n",
        "df_train = df_train_all.drop(drop_indices, axis = 1)\n",
        "\n",
        "# Forming X_train and Y_train sets\n",
        "X_train = np.asarray(df_train)\n",
        "Y_train = np.asarray(df_train_all['starts'])\n",
        "\n",
        "# Allocating the 20% of the entire training set to be used as the test set\n",
        "X_train, X_test, Y_train, Y_test = train_test_split(X_train, Y_train, test_size = 0.2, random_state = 1)"
      ]
    },
    {
      "cell_type": "code",
      "execution_count": 11,
      "metadata": {
        "id": "hvcnU2FpEOV4",
        "outputId": "f59f57fd-1c57-4d74-9915-a45fd8e1ccaa",
        "colab": {
          "base_uri": "https://localhost:8080/"
        }
      },
      "outputs": [
        {
          "output_type": "stream",
          "name": "stdout",
          "text": [
            "     student_state_id nearest_campus_id nearest_campus_state_id  \\\n",
            "0                  14                 5                      17   \n",
            "1                   8                16                       8   \n",
            "2                  16                14                      14   \n",
            "3                  16                18                      16   \n",
            "4                   1                30                       1   \n",
            "...               ...               ...                     ...   \n",
            "5585               12                15                      12   \n",
            "5586               22                15                      12   \n",
            "5587                1                30                       1   \n",
            "5588               14                 2                      14   \n",
            "5589                1                30                       1   \n",
            "\n",
            "      nearest_campus_distance   DADI  DACI   DAGI    DAEI  Inquiries   Google  \\\n",
            "0                    35.30720  11.15  1.95  28.50   57.09        1.0  10.1970   \n",
            "1                    11.12110    NaN   NaN    NaN     NaN        NaN      NaN   \n",
            "2                    36.67160  37.13  3.55  85.74  137.78        2.0  17.0180   \n",
            "3                    22.60040  39.15  3.40  88.46  143.45       13.0  15.1040   \n",
            "4                     2.71135   7.39  3.38  23.15   46.13        2.0  21.0230   \n",
            "...                       ...    ...   ...    ...     ...        ...      ...   \n",
            "5585                 22.60700  12.59  0.83  38.79   65.15        6.0  18.5820   \n",
            "5586                 22.60700   5.82  0.57  27.48   46.89        1.0  19.6590   \n",
            "5587                  2.71135   6.90  2.79  22.07   44.04       13.0  12.1320   \n",
            "5588                 14.11500  34.21  3.21  70.34  114.59        1.0   6.5757   \n",
            "5589                  2.71135   7.32  2.92  22.80   45.64        3.0  15.9750   \n",
            "\n",
            "      ...  VPHCYR0  VPHCYR1  VPHCYR2  VPHCYR3  VPHCYR4  VPHCYR5      WRHCYAGG  \\\n",
            "0     ...     49.0    218.0     98.0      9.0      9.0      0.0  1.132237e+09   \n",
            "1     ...      NaN      NaN      NaN      NaN      NaN      NaN           NaN   \n",
            "2     ...    502.0    356.0     82.0      1.0      0.0      0.0  1.036198e+09   \n",
            "3     ...    591.0    244.0     31.0      1.0      0.0      0.0  7.013191e+08   \n",
            "4     ...     14.0    235.0    220.0     48.0     19.0      0.0  2.241345e+09   \n",
            "...   ...      ...      ...      ...      ...      ...      ...           ...   \n",
            "5585  ...     95.0    483.0    250.0     71.0      1.0      0.0  6.298881e+08   \n",
            "5586  ...     73.0    159.0    143.0     61.0      7.0      1.0  8.552069e+08   \n",
            "5587  ...      2.0    112.0    147.0     17.0      1.0      0.0  4.651463e+08   \n",
            "5588  ...     29.0    160.0     99.0     35.0      5.0      0.0  3.961866e+08   \n",
            "5589  ...      1.0     42.0     48.0      1.0      0.0      0.0  1.961096e+09   \n",
            "\n",
            "          WRHCYASS  WRHCYAVEHH     WRHCYDBT  \n",
            "0     1.272540e+09   1136785.0  140302387.0  \n",
            "1              NaN         NaN          NaN  \n",
            "2     1.214178e+09    573118.0  177980078.0  \n",
            "3     8.107746e+08    648769.0  109455480.0  \n",
            "4     2.544381e+09   1327811.0  303035733.0  \n",
            "...            ...         ...          ...  \n",
            "5585  7.330898e+08    440789.0  103201604.0  \n",
            "5586  9.884330e+08    566738.0  133226137.0  \n",
            "5587  5.581916e+08    733669.0   93045254.0  \n",
            "5588  4.698494e+08    544961.0   73662837.0  \n",
            "5589  2.201673e+09   1824275.0  240576786.0  \n",
            "\n",
            "[5590 rows x 685 columns]\n"
          ]
        }
      ],
      "source": [
        "# Glancing over the entire training set\n",
        "print(df_train)"
      ]
    },
    {
      "cell_type": "markdown",
      "metadata": {
        "id": "lCKuQGCfEOV4"
      },
      "source": [
        "## Building the Initial Model\n",
        "\n",
        "Preliminary works show that LGBM Regressor yields the highest adjusted R<sup>2</sup> and R<sup>2</sup> values, thus it will be used in the rest of this study\n",
        "\n",
        "Building and fitting a LGBM Regressor model for the training set"
      ]
    },
    {
      "cell_type": "code",
      "execution_count": 12,
      "metadata": {
        "id": "kSmxFTQNEOV4"
      },
      "outputs": [],
      "source": [
        "# Building and fiting a regression model\n",
        "reg = LGBMRegressor()\n",
        "reg.fit(X_train, Y_train)\n",
        "\n",
        "# Predicting target values using the set\n",
        "Y_predict = reg.predict(X_test)"
      ]
    },
    {
      "cell_type": "markdown",
      "metadata": {
        "id": "OBq7cwNsEOV5"
      },
      "source": [
        "Defining a function that calculates and returns R<sup>2</sup> and adjusted R<sup>2</sup> values of a given model"
      ]
    },
    {
      "cell_type": "code",
      "execution_count": 13,
      "metadata": {
        "id": "t4hUTlGlEOV5"
      },
      "outputs": [],
      "source": [
        "def get_scores(reg, X_test, Y_test, print_results = True):\n",
        "    # Calculating the R2 value\n",
        "    r2 = reg.score(X_test, Y_test)\n",
        "    n = X_test.shape[0]\n",
        "    p = X_test.shape[1]\n",
        "\n",
        "    # Calculating the adjusted R2 value\n",
        "    adjusted_r2 = 1 - (1 - r2) * ((n - 1) / (n - p - 1))\n",
        "    if print_results:\n",
        "        print(f'R2: {r2:.4f}, Adjusted R2: {adjusted_r2:.4f}')\n",
        "\n",
        "    # Returning the R2 and adjusted R2 values\n",
        "    return r2, adjusted_r2"
      ]
    },
    {
      "cell_type": "markdown",
      "metadata": {
        "id": "Y5BfBTVBEOV5"
      },
      "source": [
        "Outputting the model scores"
      ]
    },
    {
      "cell_type": "code",
      "execution_count": 14,
      "metadata": {
        "id": "jn2AIOFGEOV5",
        "outputId": "d64ebdeb-c606-4723-bc15-0c58749d0666",
        "colab": {
          "base_uri": "https://localhost:8080/"
        }
      },
      "outputs": [
        {
          "output_type": "stream",
          "name": "stdout",
          "text": [
            "R2: 0.3008, Adjusted R2: -0.8079\n"
          ]
        }
      ],
      "source": [
        "r2, adjusted_r2 = get_scores(reg, X_test, Y_test)"
      ]
    },
    {
      "cell_type": "markdown",
      "metadata": {
        "id": "-_QLmpW5EOV5"
      },
      "source": [
        "R<sup>2</sup> value, <i>i.e., the coefficient of determination</i>, indicates how much of the variance in the data set can be explained through the model. The higher the R<sup>2</sup> value is, the model fits the better to the data set. An R<sup>2</sup> value of 0.30 indicates a relatively weak model, which may be improved through parameter calibration.\n",
        "\n",
        "Adjusted R<sup>2</sup> value is adjusted for the number of features (<i>i.e., independent variables</i>) in the model. An adjusted R<sup>2</sup> value of -0.81 indicates that many features  that don't contribute to the model are used in the model. It can be fixed by removing unnecessary features.\n",
        "\n",
        "Defining a function that plots the predicted and actual target values"
      ]
    },
    {
      "cell_type": "code",
      "execution_count": null,
      "metadata": {
        "id": "DIjSlpKPEOV5"
      },
      "outputs": [],
      "source": [
        "def plot_model(Y_test, Y_predict, r2, adjusted_r2):\n",
        "    plt.plot(Y_test)\n",
        "    plt.plot(Y_predict)\n",
        "    plt.legend(['Observed', 'Predicted'])\n",
        "    plt.title(f'LGBM Regressor, R2 = {r2:.2f}, Adj.R2: {adjusted_r2:.2f}')\n",
        "    plt.ylabel('Target')\n",
        "    plt.xlabel('Data Index')\n",
        "    plt.show()"
      ]
    },
    {
      "cell_type": "code",
      "source": [
        "def plot_model(Y_test, Y_predict, r2, adjusted_r2):\n",
        "    Y_error = Y_predict - Y_test\n",
        "    Y_mean = np.mean(Y_error)\n",
        "    Y_std = np.std(Y_error)\n",
        "    step_size = 0.05\n",
        "    X_range = range(np.round(Y_mean - Y_std * 3, 2) - step_size, Y_mean + Y_std * 3 + step_size, step_size)\n",
        "    #X_range = range(int(Y_mean - Y_std * 3) - 1, int(Y_mean + Y_std * 3) + 1, step_size)\n",
        "    #X_range = range(int(min(Y_error)) - 1, int(max(Y_error)) + 1)\n",
        "    counts, edges, bars = plt.hist(Y_error, bins = X_range, edgecolor = 'black')\n",
        "    plt.bar_label(bars)\n",
        "    plt.title(f'LGBM Regressor, R2 = {r2:.2f}, Adj.R2: {adjusted_r2:.2f}')\n",
        "    plt.ylabel('Count')\n",
        "    plt.xlabel('Prediction - Observation')\n",
        "    plt.xticks(X_range)\n",
        "    plt.show()"
      ],
      "metadata": {
        "id": "6wjMZW7_GPIl"
      },
      "execution_count": 100,
      "outputs": []
    },
    {
      "cell_type": "code",
      "execution_count": 102,
      "metadata": {
        "id": "F9LTgU43EOV6",
        "outputId": "8d2dd152-c36f-42fd-baa1-d09eb98a3b25",
        "colab": {
          "base_uri": "https://localhost:8080/",
          "height": 304
        }
      },
      "outputs": [
        {
          "output_type": "error",
          "ename": "TypeError",
          "evalue": "ignored",
          "traceback": [
            "\u001b[0;31m---------------------------------------------------------------------------\u001b[0m",
            "\u001b[0;31mTypeError\u001b[0m                                 Traceback (most recent call last)",
            "\u001b[0;32m<ipython-input-102-aef26ea105c4>\u001b[0m in \u001b[0;36m<cell line: 2>\u001b[0;34m()\u001b[0m\n\u001b[1;32m      1\u001b[0m \u001b[0;31m# Plotting the model\u001b[0m\u001b[0;34m\u001b[0m\u001b[0;34m\u001b[0m\u001b[0m\n\u001b[0;32m----> 2\u001b[0;31m \u001b[0mplot_model\u001b[0m\u001b[0;34m(\u001b[0m\u001b[0mY_test\u001b[0m\u001b[0;34m,\u001b[0m \u001b[0mY_predict\u001b[0m\u001b[0;34m,\u001b[0m \u001b[0mr2\u001b[0m\u001b[0;34m,\u001b[0m \u001b[0madjusted_r2\u001b[0m\u001b[0;34m)\u001b[0m\u001b[0;34m\u001b[0m\u001b[0;34m\u001b[0m\u001b[0m\n\u001b[0m",
            "\u001b[0;32m<ipython-input-100-ff7a23d43d4d>\u001b[0m in \u001b[0;36mplot_model\u001b[0;34m(Y_test, Y_predict, r2, adjusted_r2)\u001b[0m\n\u001b[1;32m      4\u001b[0m     \u001b[0mY_std\u001b[0m \u001b[0;34m=\u001b[0m \u001b[0mnp\u001b[0m\u001b[0;34m.\u001b[0m\u001b[0mstd\u001b[0m\u001b[0;34m(\u001b[0m\u001b[0mY_error\u001b[0m\u001b[0;34m)\u001b[0m\u001b[0;34m\u001b[0m\u001b[0;34m\u001b[0m\u001b[0m\n\u001b[1;32m      5\u001b[0m     \u001b[0mstep_size\u001b[0m \u001b[0;34m=\u001b[0m \u001b[0;36m0.5\u001b[0m\u001b[0;34m\u001b[0m\u001b[0;34m\u001b[0m\u001b[0m\n\u001b[0;32m----> 6\u001b[0;31m     \u001b[0mX_range\u001b[0m \u001b[0;34m=\u001b[0m \u001b[0mrange\u001b[0m\u001b[0;34m(\u001b[0m\u001b[0mY_mean\u001b[0m \u001b[0;34m-\u001b[0m \u001b[0mY_std\u001b[0m \u001b[0;34m*\u001b[0m \u001b[0;36m3\u001b[0m \u001b[0;34m-\u001b[0m \u001b[0mstep_size\u001b[0m\u001b[0;34m,\u001b[0m \u001b[0mY_mean\u001b[0m \u001b[0;34m+\u001b[0m \u001b[0mY_std\u001b[0m \u001b[0;34m*\u001b[0m \u001b[0;36m3\u001b[0m \u001b[0;34m+\u001b[0m \u001b[0mstep_size\u001b[0m\u001b[0;34m,\u001b[0m \u001b[0mstep_size\u001b[0m\u001b[0;34m)\u001b[0m\u001b[0;34m\u001b[0m\u001b[0;34m\u001b[0m\u001b[0m\n\u001b[0m\u001b[1;32m      7\u001b[0m     \u001b[0;31m#X_range = range(int(Y_mean - Y_std * 3) - 1, int(Y_mean + Y_std * 3) + 1, step_size)\u001b[0m\u001b[0;34m\u001b[0m\u001b[0;34m\u001b[0m\u001b[0m\n\u001b[1;32m      8\u001b[0m     \u001b[0;31m#X_range = range(int(min(Y_error)) - 1, int(max(Y_error)) + 1)\u001b[0m\u001b[0;34m\u001b[0m\u001b[0;34m\u001b[0m\u001b[0m\n",
            "\u001b[0;31mTypeError\u001b[0m: 'numpy.float64' object cannot be interpreted as an integer"
          ]
        }
      ],
      "source": [
        "# Plotting the model\n",
        "plot_model(Y_test, Y_predict, r2, adjusted_r2)"
      ]
    },
    {
      "cell_type": "markdown",
      "metadata": {
        "id": "3oq2GBMhEOV6"
      },
      "source": [
        "## Feature Selection\n",
        "\n",
        "Calculating importance values of the features used in the model"
      ]
    },
    {
      "cell_type": "code",
      "execution_count": 74,
      "metadata": {
        "id": "jpFtMDZAEOV6"
      },
      "outputs": [],
      "source": [
        "# Getting the importance values of the model features\n",
        "importances = reg.feature_importances_\n",
        "\n",
        "# Using the importance values of the model features in a new data set\n",
        "df_importances = pd.DataFrame({'feature': df_train.columns.values, 'importance': importances}).sort_values('importance', ascending = False).reset_index(drop = True)"
      ]
    },
    {
      "cell_type": "code",
      "execution_count": 75,
      "metadata": {
        "id": "GX-jvaguEOV6",
        "outputId": "e136cfe7-d076-47a2-dcdd-2203aa43df39",
        "colab": {
          "base_uri": "https://localhost:8080/"
        }
      },
      "outputs": [
        {
          "output_type": "stream",
          "name": "stdout",
          "text": [
            "                     feature  importance\n",
            "0                  Inquiries          77\n",
            "1    nearest_campus_distance          44\n",
            "2                       DACI          37\n",
            "3                       DADI          27\n",
            "4                 DIMCYLRENT          26\n",
            "..                       ...         ...\n",
            "680                 HMVCYDWL           0\n",
            "681                 HMVCYIRE           0\n",
            "682                HMVCYLIFE           0\n",
            "683               HMVCYLNCRE           0\n",
            "684                 WRHCYDBT           0\n",
            "\n",
            "[685 rows x 2 columns]\n"
          ]
        }
      ],
      "source": [
        "# Glancing over the importance values\n",
        "print(df_importances)"
      ]
    },
    {
      "cell_type": "code",
      "execution_count": 76,
      "metadata": {
        "id": "RFoLiohSEOV6",
        "outputId": "a4965c2a-816d-4424-c243-37a836d35ae5",
        "colab": {
          "base_uri": "https://localhost:8080/",
          "height": 472
        }
      },
      "outputs": [
        {
          "output_type": "display_data",
          "data": {
            "text/plain": [
              "<Figure size 640x480 with 1 Axes>"
            ],
            "image/png": "[encoded data removed]"
          },
          "metadata": {}
        }
      ],
      "source": [
        "# Plotting the importance values of model features\n",
        "plt.plot(df_importances['importance'])\n",
        "plt.title('Importance Levels of Model Features')\n",
        "plt.ylabel('Importance')\n",
        "plt.xlabel('Feature Index')\n",
        "plt.show()"
      ]
    },
    {
      "cell_type": "markdown",
      "metadata": {
        "id": "daASuTh4EOV6"
      },
      "source": [
        "Defining a function that filters out the features that have a lower importance value than the specified limit, and then building and fitting a regression model with the remaining features and returning scores"
      ]
    },
    {
      "cell_type": "code",
      "execution_count": 77,
      "metadata": {
        "id": "8LkcnK27EOV7"
      },
      "outputs": [],
      "source": [
        "def remove_features(importance_limit, print_results = True):\n",
        "    # Removing the features that have a lower importance value than the limit\n",
        "    drop_indices_new = drop_indices + list(df_importances[df_importances.importance < importance_limit].feature)\n",
        "    df_train_new = df_train_all.drop(drop_indices_new, axis = 1)\n",
        "\n",
        "    # Reconstructing and splitting the training data set\n",
        "    X_train_new = np.asarray(df_train_new)\n",
        "    Y_train_new = np.asarray(df_train_all['starts'])\n",
        "    X_train_new, X_test_new, Y_train_new, Y_test_new = train_test_split(X_train_new, Y_train_new, test_size = 0.2, random_state = 1)\n",
        "\n",
        "    # Building and fitting a new regression model\n",
        "    reg_new = LGBMRegressor()\n",
        "    reg_new.fit(X_train_new, Y_train_new)\n",
        "\n",
        "    # Getting scores for the new regression model and return them\n",
        "    return get_scores(reg_new, X_test_new, Y_test_new, print_results)"
      ]
    },
    {
      "cell_type": "markdown",
      "metadata": {
        "id": "IqMGkkMaEOV7"
      },
      "source": [
        "Iterating for increasing importance limits (until the maximum importance level) and acquiring the R<sup>2</sup> scores of regression models with features that have a higher importance than the limit"
      ]
    },
    {
      "cell_type": "code",
      "execution_count": 78,
      "metadata": {
        "id": "7N7fcYbIEOV7"
      },
      "outputs": [],
      "source": [
        "# Empty lists\n",
        "importance_levels = []\n",
        "r2_values = []\n",
        "adjusted_r2_values = []\n",
        "\n",
        "# If set to true, scores will be printed for each iteration\n",
        "print_results = False\n",
        "\n",
        "for importance_limit in range(max(importances)):\n",
        "    r2_new, adjusted_r2_new = remove_features(importance_limit, print_results)\n",
        "\n",
        "    # Adding the importance and the scores to the empty lists\n",
        "    importance_levels.append(importance_limit)\n",
        "    r2_values.append(r2_new)\n",
        "    adjusted_r2_values.append(adjusted_r2_new)"
      ]
    },
    {
      "cell_type": "markdown",
      "metadata": {
        "id": "wVL6y2rTEOV7"
      },
      "source": [
        "Plotting the R<sup>2</sup> and adjusted R<sup>2</sup> values examine how they are affected by the limit importance level"
      ]
    },
    {
      "cell_type": "code",
      "execution_count": 79,
      "metadata": {
        "id": "JexWwn1NEOV7",
        "outputId": "1fac1e91-70e8-4e67-9402-9f9993c84ba3",
        "colab": {
          "base_uri": "https://localhost:8080/",
          "height": 472
        }
      },
      "outputs": [
        {
          "output_type": "display_data",
          "data": {
            "text/plain": [
              "<Figure size 640x480 with 1 Axes>"
            ],
            "image/png": "[encoded data removed]"
          },
          "metadata": {}
        }
      ],
      "source": [
        "plt.plot(r2_values)\n",
        "plt.plot(adjusted_r2_values)\n",
        "plt.legend(['R2', 'Adj. R2'])\n",
        "plt.title('R2/Adj.R2 Scores vs Features Removed')\n",
        "plt.xlabel('Limit Importance Level')\n",
        "plt.show()"
      ]
    },
    {
      "cell_type": "markdown",
      "metadata": {
        "id": "SD7ZXnMWEOV7"
      },
      "source": [
        "Observing the plot, it can be stated that the limit importance level can be chosen as 19 for the optimum R<sup>2</sup> and adjusted R<sup>2</sup> values.\n",
        "\n",
        "Building and fitting a new model with features that have an importance level of larger than or equal to 19 (according to the base model)"
      ]
    },
    {
      "cell_type": "code",
      "execution_count": 80,
      "metadata": {
        "id": "5GIf7zaEEOV7"
      },
      "outputs": [],
      "source": [
        "# Filtering out the features with an importance level of less than 19\n",
        "importance_limit = 19\n",
        "drop_indices_new = list(df_importances[df_importances.importance < importance_limit].feature)\n",
        "df_test = df_test.drop(drop_indices_new, axis = 1)\n",
        "drop_indices_new += drop_indices\n",
        "df_train = df_train_all.drop(drop_indices_new, axis = 1)\n",
        "\n",
        "# Reconstructing and splitting the training data set\n",
        "X_train = np.asarray(df_train)\n",
        "Y_train = np.asarray(df_train_all['starts'])\n",
        "X_train, X_test, Y_train, Y_test = train_test_split( X_train, Y_train, test_size=0.2, random_state=1)\n",
        "\n",
        "# Building and fitting a new regression model\n",
        "reg = LGBMRegressor()\n",
        "reg.fit(X_train, Y_train)\n",
        "Y_predict = reg.predict(X_test)"
      ]
    },
    {
      "cell_type": "code",
      "execution_count": 81,
      "metadata": {
        "id": "bB89VYC7EOV7",
        "outputId": "387a769e-c5cb-49f3-94f0-f23591182826",
        "colab": {
          "base_uri": "https://localhost:8080/"
        }
      },
      "outputs": [
        {
          "output_type": "stream",
          "name": "stdout",
          "text": [
            "R2: 0.3114, Adjusted R2: 0.3014\n"
          ]
        }
      ],
      "source": [
        "# Getting the R2 and adjusted R2 values of the new model\n",
        "r2, adjusted_r2 = get_scores(reg, X_test, Y_test)"
      ]
    },
    {
      "cell_type": "code",
      "execution_count": 82,
      "metadata": {
        "id": "VU0mpXiWEOV8",
        "outputId": "05547c37-f203-4b55-aa21-5990946a0357",
        "colab": {
          "base_uri": "https://localhost:8080/",
          "height": 472
        }
      },
      "outputs": [
        {
          "output_type": "display_data",
          "data": {
            "text/plain": [
              "<Figure size 640x480 with 1 Axes>"
            ],
            "image/png": "[encoded data removed]"
          },
          "metadata": {}
        }
      ],
      "source": [
        "# Plotting the new model\n",
        "plot_model(Y_test, Y_predict, r2, adjusted_r2)"
      ]
    },
    {
      "cell_type": "code",
      "execution_count": 83,
      "metadata": {
        "id": "HDU6lPErEOV8",
        "outputId": "05f137a8-67a5-43e1-b636-b4f7cb60b216",
        "colab": {
          "base_uri": "https://localhost:8080/"
        }
      },
      "outputs": [
        {
          "output_type": "stream",
          "name": "stdout",
          "text": [
            "     nearest_campus_id  nearest_campus_distance   DADI  DACI  Inquiries  \\\n",
            "0                    5                 35.30720  11.15  1.95        1.0   \n",
            "1                   16                 11.12110    NaN   NaN        NaN   \n",
            "2                   14                 36.67160  37.13  3.55        2.0   \n",
            "3                   18                 22.60040  39.15  3.40       13.0   \n",
            "4                   30                  2.71135   7.39  3.38        2.0   \n",
            "...                ...                      ...    ...   ...        ...   \n",
            "5585                15                 22.60700  12.59  0.83        6.0   \n",
            "5586                15                 22.60700   5.82  0.57        1.0   \n",
            "5587                30                  2.71135   6.90  2.79       13.0   \n",
            "5588                 2                 14.11500  34.21  3.21        1.0   \n",
            "5589                30                  2.71135   7.32  2.92        3.0   \n",
            "\n",
            "      BLS Job Openings  AGRCYBLACK  DIMCYEXPH  DIMCYGOVTW  DIMCYHLTEM  \\\n",
            "0               1.6616        23.0     -0.470       0.042      -0.268   \n",
            "1                  NaN         NaN        NaN         NaN         NaN   \n",
            "2               2.5268       163.0     -0.819       0.785       2.033   \n",
            "3               2.1215        71.0      1.157       0.507      -0.547   \n",
            "4               4.0751        14.0      0.608       0.650      -0.221   \n",
            "...                ...         ...        ...         ...         ...   \n",
            "5585            3.0052       292.0      0.373      -0.034      -0.072   \n",
            "5586            2.9916       100.0      0.290      -0.390      -0.628   \n",
            "5587            2.2573        14.0      0.487      -0.620      -0.580   \n",
            "5588            1.0242        20.0      1.201       0.354      -0.817   \n",
            "5589            3.0041        17.0      0.775      -0.874       0.301   \n",
            "\n",
            "      DIMCYLRENT  DIMCYMCHOU  DIMCYMOBH  DIMCYRETEM  DIMCYRNTF  FINCY2530  \n",
            "0         -0.811       1.262     -0.692      -0.428     -0.619       11.0  \n",
            "1            NaN         NaN        NaN         NaN        NaN        NaN  \n",
            "2         -0.230      -0.241     -1.045       0.261      0.332       16.0  \n",
            "3         -0.168      -0.455     -1.290      -0.513     -0.047       33.0  \n",
            "4         -1.098       1.079     -1.165       0.320     -0.319        6.0  \n",
            "...          ...         ...        ...         ...        ...        ...  \n",
            "5585       0.081       1.445     -0.290      -0.723      0.656       24.0  \n",
            "5586      -1.029       1.400      0.968      -1.034      0.670       16.0  \n",
            "5587      -0.244       1.583      0.927      -0.774      0.328        5.0  \n",
            "5588      -1.088       0.438     -1.105       0.290     -0.704       13.0  \n",
            "5589       0.071       2.042     -0.768      -0.376      0.770        5.0  \n",
            "\n",
            "[5590 rows x 16 columns]\n"
          ]
        }
      ],
      "source": [
        "# Glancing over the entire training data set\n",
        "print(df_train)"
      ]
    },
    {
      "cell_type": "code",
      "execution_count": 84,
      "metadata": {
        "id": "t_uePyH2EOV8",
        "outputId": "49e71854-ead5-4e7d-901b-5b0290382480",
        "colab": {
          "base_uri": "https://localhost:8080/"
        }
      },
      "outputs": [
        {
          "output_type": "stream",
          "name": "stdout",
          "text": [
            "['nearest_campus_id' 'nearest_campus_distance' 'DADI' 'DACI' 'Inquiries'\n",
            " 'BLS Job Openings' 'AGRCYBLACK' 'DIMCYEXPH' 'DIMCYGOVTW' 'DIMCYHLTEM'\n",
            " 'DIMCYLRENT' 'DIMCYMCHOU' 'DIMCYMOBH' 'DIMCYRETEM' 'DIMCYRNTF'\n",
            " 'FINCY2530']\n"
          ]
        }
      ],
      "source": [
        "# Outputting the features used in the model\n",
        "print(df_train.columns.values)"
      ]
    },
    {
      "cell_type": "markdown",
      "metadata": {
        "id": "OdUh5kM6EOV8"
      },
      "source": [
        "## Hyperparameter Calibration\n",
        "\n",
        "Hyperparameters are calibrated manually with an iterative approach.\n",
        "\n",
        "Calibrating and visualizing the parameter 'num_leaves'"
      ]
    },
    {
      "cell_type": "code",
      "execution_count": 85,
      "metadata": {
        "id": "jzCEzhu9EOV8",
        "outputId": "d9cd62cd-bb17-4280-ae50-a1e2366b4f8f",
        "colab": {
          "base_uri": "https://localhost:8080/"
        }
      },
      "outputs": [
        {
          "output_type": "stream",
          "name": "stdout",
          "text": [
            "R2: 0.2380 Adj.R: 0.2269 for parameters {'num_leaves': 2}\n",
            "R2: 0.2846 Adj.R: 0.2742 for parameters {'num_leaves': 3}\n",
            "R2: 0.3150 Adj.R: 0.3051 for parameters {'num_leaves': 4}\n",
            "R2: 0.3168 Adj.R: 0.3069 for parameters {'num_leaves': 5}\n",
            "R2: 0.3245 Adj.R: 0.3147 for parameters {'num_leaves': 6}\n",
            "R2: 0.3278 Adj.R: 0.3181 for parameters {'num_leaves': 7}\n",
            "R2: 0.3280 Adj.R: 0.3183 for parameters {'num_leaves': 8}\n",
            "R2: 0.3325 Adj.R: 0.3228 for parameters {'num_leaves': 9}\n",
            "R2: 0.3288 Adj.R: 0.3190 for parameters {'num_leaves': 10}\n",
            "R2: 0.3256 Adj.R: 0.3158 for parameters {'num_leaves': 11}\n",
            "R2: 0.3290 Adj.R: 0.3193 for parameters {'num_leaves': 12}\n",
            "R2: 0.3261 Adj.R: 0.3163 for parameters {'num_leaves': 13}\n",
            "R2: 0.3167 Adj.R: 0.3068 for parameters {'num_leaves': 14}\n",
            "R2: 0.3197 Adj.R: 0.3098 for parameters {'num_leaves': 15}\n",
            "R2: 0.3320 Adj.R: 0.3223 for parameters {'num_leaves': 16}\n",
            "R2: 0.3305 Adj.R: 0.3208 for parameters {'num_leaves': 17}\n",
            "R2: 0.3261 Adj.R: 0.3163 for parameters {'num_leaves': 18}\n",
            "R2: 0.3191 Adj.R: 0.3092 for parameters {'num_leaves': 19}\n",
            "R2: 0.3125 Adj.R: 0.3025 for parameters {'num_leaves': 20}\n",
            "R2: 0.3326 Adj.R: 0.3229 for parameters {'num_leaves': 21}\n",
            "R2: 0.3231 Adj.R: 0.3132 for parameters {'num_leaves': 22}\n",
            "R2: 0.3229 Adj.R: 0.3130 for parameters {'num_leaves': 23}\n",
            "R2: 0.3123 Adj.R: 0.3023 for parameters {'num_leaves': 24}\n",
            "R2: 0.3121 Adj.R: 0.3022 for parameters {'num_leaves': 25}\n",
            "R2: 0.3230 Adj.R: 0.3132 for parameters {'num_leaves': 26}\n",
            "R2: 0.3162 Adj.R: 0.3062 for parameters {'num_leaves': 27}\n",
            "R2: 0.3204 Adj.R: 0.3105 for parameters {'num_leaves': 28}\n",
            "R2: 0.3204 Adj.R: 0.3105 for parameters {'num_leaves': 29}\n",
            "R2: 0.3127 Adj.R: 0.3027 for parameters {'num_leaves': 30}\n",
            "R2: 0.3114 Adj.R: 0.3014 for parameters {'num_leaves': 31}\n",
            "R2: 0.3164 Adj.R: 0.3064 for parameters {'num_leaves': 32}\n",
            "R2: 0.3145 Adj.R: 0.3045 for parameters {'num_leaves': 33}\n",
            "R2: 0.3092 Adj.R: 0.2991 for parameters {'num_leaves': 34}\n",
            "R2: 0.3283 Adj.R: 0.3186 for parameters {'num_leaves': 35}\n",
            "R2: 0.3125 Adj.R: 0.3025 for parameters {'num_leaves': 36}\n",
            "R2: 0.3085 Adj.R: 0.2984 for parameters {'num_leaves': 37}\n",
            "R2: 0.3006 Adj.R: 0.2905 for parameters {'num_leaves': 38}\n",
            "R2: 0.3029 Adj.R: 0.2928 for parameters {'num_leaves': 39}\n",
            "R2: 0.3222 Adj.R: 0.3123 for parameters {'num_leaves': 40}\n",
            "R2: 0.3097 Adj.R: 0.2997 for parameters {'num_leaves': 41}\n",
            "R2: 0.3154 Adj.R: 0.3054 for parameters {'num_leaves': 42}\n",
            "R2: 0.3168 Adj.R: 0.3068 for parameters {'num_leaves': 43}\n",
            "R2: 0.3021 Adj.R: 0.2919 for parameters {'num_leaves': 44}\n",
            "R2: 0.3040 Adj.R: 0.2938 for parameters {'num_leaves': 45}\n",
            "R2: 0.3128 Adj.R: 0.3028 for parameters {'num_leaves': 46}\n",
            "R2: 0.3202 Adj.R: 0.3104 for parameters {'num_leaves': 47}\n",
            "R2: 0.3205 Adj.R: 0.3106 for parameters {'num_leaves': 48}\n",
            "R2: 0.3201 Adj.R: 0.3102 for parameters {'num_leaves': 49}\n",
            "R2: 0.3251 Adj.R: 0.3153 for parameters {'num_leaves': 50}\n",
            "R2: 0.3132 Adj.R: 0.3032 for parameters {'num_leaves': 51}\n",
            "R2: 0.3066 Adj.R: 0.2965 for parameters {'num_leaves': 52}\n",
            "R2: 0.3070 Adj.R: 0.2969 for parameters {'num_leaves': 53}\n",
            "R2: 0.3095 Adj.R: 0.2995 for parameters {'num_leaves': 54}\n",
            "R2: 0.3064 Adj.R: 0.2964 for parameters {'num_leaves': 55}\n",
            "R2: 0.3145 Adj.R: 0.3046 for parameters {'num_leaves': 56}\n",
            "R2: 0.3158 Adj.R: 0.3059 for parameters {'num_leaves': 57}\n",
            "R2: 0.3107 Adj.R: 0.3006 for parameters {'num_leaves': 58}\n",
            "R2: 0.3008 Adj.R: 0.2906 for parameters {'num_leaves': 59}\n",
            "R2: 0.3016 Adj.R: 0.2914 for parameters {'num_leaves': 60}\n",
            "R2: 0.3029 Adj.R: 0.2928 for parameters {'num_leaves': 61}\n",
            "R2: 0.2963 Adj.R: 0.2861 for parameters {'num_leaves': 62}\n",
            "R2: 0.3108 Adj.R: 0.3008 for parameters {'num_leaves': 63}\n",
            "R2: 0.3127 Adj.R: 0.3027 for parameters {'num_leaves': 64}\n",
            "R2: 0.3146 Adj.R: 0.3046 for parameters {'num_leaves': 65}\n",
            "R2: 0.3111 Adj.R: 0.3011 for parameters {'num_leaves': 66}\n",
            "R2: 0.3018 Adj.R: 0.2917 for parameters {'num_leaves': 67}\n",
            "R2: 0.3169 Adj.R: 0.3070 for parameters {'num_leaves': 68}\n",
            "R2: 0.3019 Adj.R: 0.2918 for parameters {'num_leaves': 69}\n",
            "R2: 0.3055 Adj.R: 0.2954 for parameters {'num_leaves': 70}\n",
            "R2: 0.3018 Adj.R: 0.2917 for parameters {'num_leaves': 71}\n",
            "R2: 0.3121 Adj.R: 0.3021 for parameters {'num_leaves': 72}\n",
            "R2: 0.3007 Adj.R: 0.2905 for parameters {'num_leaves': 73}\n",
            "R2: 0.3068 Adj.R: 0.2967 for parameters {'num_leaves': 74}\n",
            "R2: 0.2960 Adj.R: 0.2857 for parameters {'num_leaves': 75}\n",
            "R2: 0.3058 Adj.R: 0.2957 for parameters {'num_leaves': 76}\n",
            "R2: 0.3140 Adj.R: 0.3041 for parameters {'num_leaves': 77}\n",
            "R2: 0.3021 Adj.R: 0.2920 for parameters {'num_leaves': 78}\n",
            "R2: 0.2973 Adj.R: 0.2871 for parameters {'num_leaves': 79}\n",
            "R2: 0.3162 Adj.R: 0.3062 for parameters {'num_leaves': 80}\n",
            "R2: 0.2977 Adj.R: 0.2875 for parameters {'num_leaves': 81}\n",
            "R2: 0.2865 Adj.R: 0.2761 for parameters {'num_leaves': 82}\n",
            "R2: 0.3000 Adj.R: 0.2899 for parameters {'num_leaves': 83}\n",
            "R2: 0.2915 Adj.R: 0.2812 for parameters {'num_leaves': 84}\n",
            "R2: 0.2991 Adj.R: 0.2889 for parameters {'num_leaves': 85}\n",
            "R2: 0.2844 Adj.R: 0.2740 for parameters {'num_leaves': 86}\n",
            "R2: 0.2938 Adj.R: 0.2835 for parameters {'num_leaves': 87}\n",
            "R2: 0.3059 Adj.R: 0.2958 for parameters {'num_leaves': 88}\n",
            "R2: 0.3109 Adj.R: 0.3009 for parameters {'num_leaves': 89}\n",
            "R2: 0.2851 Adj.R: 0.2747 for parameters {'num_leaves': 90}\n",
            "R2: 0.2927 Adj.R: 0.2824 for parameters {'num_leaves': 91}\n",
            "R2: 0.3137 Adj.R: 0.3037 for parameters {'num_leaves': 92}\n",
            "R2: 0.3139 Adj.R: 0.3039 for parameters {'num_leaves': 93}\n",
            "R2: 0.3042 Adj.R: 0.2941 for parameters {'num_leaves': 94}\n",
            "R2: 0.3050 Adj.R: 0.2949 for parameters {'num_leaves': 95}\n",
            "R2: 0.2983 Adj.R: 0.2881 for parameters {'num_leaves': 96}\n",
            "R2: 0.2986 Adj.R: 0.2884 for parameters {'num_leaves': 97}\n",
            "R2: 0.2923 Adj.R: 0.2820 for parameters {'num_leaves': 98}\n",
            "R2: 0.2968 Adj.R: 0.2866 for parameters {'num_leaves': 99}\n"
          ]
        }
      ],
      "source": [
        "# Empty lists\n",
        "parameters = []\n",
        "r2_values = []\n",
        "adjusted_r2_values = []\n",
        "\n",
        "# If set to true, scores will be printed for each iteration\n",
        "show_iterations = True\n",
        "\n",
        "for param in range(0, 100, 1):\n",
        "    try:\n",
        "        # Starting with the first parameter, num_leaves\n",
        "        params = {'num_leaves': param}\n",
        "\n",
        "        # Building and fitting the model, then getting the scores\n",
        "        reg_new = LGBMRegressor(**params)\n",
        "        reg_new.fit(X_train, Y_train)\n",
        "\n",
        "        r2_new, adjusted_r2_new = get_scores(reg_new, X_test, Y_test, False)\n",
        "\n",
        "        if show_iterations:\n",
        "            print(f'R2: {r2_new:.4f} Adj.R: {adjusted_r2_new:.4f} for parameters {params}')\n",
        "\n",
        "        # Adding the parameter and the scores to the empty lists\n",
        "        parameters.append(param)\n",
        "        r2_values.append(r2_new)\n",
        "        adjusted_r2_values.append(adjusted_r2_new)\n",
        "\n",
        "    except:\n",
        "        pass"
      ]
    },
    {
      "cell_type": "code",
      "execution_count": 86,
      "metadata": {
        "id": "-OtOZxzhEOV_",
        "outputId": "3a2ff5fe-c129-4ab7-c204-51870b9533b2",
        "colab": {
          "base_uri": "https://localhost:8080/"
        }
      },
      "outputs": [
        {
          "output_type": "stream",
          "name": "stdout",
          "text": [
            "For 'num_leaves': 19, R2: 0.3326 AdjR2:0.3229 (Max R2)\n",
            "For 'num_leaves': 19, R2: 0.3326 AdjR2:0.3229 (Max AdjR2)\n"
          ]
        }
      ],
      "source": [
        "# Outputting maximum values of R2 and adjusted R2 for varying num_leaves\n",
        "# For the maximum value of R2\n",
        "r2_1 = max(r2_values)\n",
        "index_1 = r2_values.index(r2_1)\n",
        "param_1 = parameters[index_1]\n",
        "r2_adj_1 = adjusted_r2_values[index_1]\n",
        "\n",
        "# For the maximum value of adjusted R2\n",
        "r2_adj_2 = max(adjusted_r2_values)\n",
        "index_2 = adjusted_r2_values.index(r2_adj_2)\n",
        "param_2 = parameters[index_2]\n",
        "r2_2 = r2_values[index_2]\n",
        "\n",
        "#\n",
        "print(f'For \\'num_leaves\\': {index_1}, R2: {r2_1:.4f} AdjR2:{r2_adj_1:.4f} (Max R2)')\n",
        "print(f'For \\'num_leaves\\': {index_2}, R2: {r2_2:.4f} AdjR2:{r2_adj_2:.4f} (Max AdjR2)')"
      ]
    },
    {
      "cell_type": "markdown",
      "metadata": {
        "id": "FN_4WEqJEOV_"
      },
      "source": [
        "Setting 'num_leaves' to be 19 gives the maximum R2 and adjusted R2.\n",
        "\n",
        "Plotting R2 & adjusted R2 values vs. num_leaves "
      ]
    },
    {
      "cell_type": "code",
      "execution_count": 87,
      "metadata": {
        "id": "PrlDCqIKEOV_",
        "outputId": "7ff28c79-8e94-4409-b010-5fb46073aa59",
        "colab": {
          "base_uri": "https://localhost:8080/",
          "height": 472
        }
      },
      "outputs": [
        {
          "output_type": "display_data",
          "data": {
            "text/plain": [
              "<Figure size 640x480 with 1 Axes>"
            ],
            "image/png": "[encoded data removed]"
          },
          "metadata": {}
        }
      ],
      "source": [
        "plt.plot(r2_values)\n",
        "plt.plot(adjusted_r2_values)\n",
        "plt.legend(['R2', 'Adjusted R2'])\n",
        "plt.title('R2/Adj.R2 vs num_leaves')\n",
        "plt.xlabel('num_leaves')\n",
        "plt.show()"
      ]
    },
    {
      "cell_type": "markdown",
      "metadata": {
        "id": "xFsX8Wr-EOV_"
      },
      "source": [
        "The process is repeated for all arguments of LGBMRegressor() and optimum parameters are obtained.\n",
        "\n",
        "Building and fitting a calibrated model with the calibrated hyperparameters"
      ]
    },
    {
      "cell_type": "code",
      "execution_count": 88,
      "metadata": {
        "id": "xRPHE463EOWA"
      },
      "outputs": [],
      "source": [
        "# Optimum model hyperparameters obtained through manual calibration\n",
        "params = {\n",
        "        'num_leaves': 19,\n",
        "        'max_depth': 8,\n",
        "        'learning_rate': 0.14,\n",
        "        'n_estimators': 25,\n",
        "        'min_split_gain': 4.54,\n",
        "        'min_child_samples': 12,\n",
        "        'colsample_bytree': 0.75,\n",
        "        'reg_lambda': 2.44\n",
        "        }"
      ]
    },
    {
      "cell_type": "code",
      "execution_count": 89,
      "metadata": {
        "id": "uqkYmNZ7EOWA",
        "outputId": "f1fcaeb6-c32b-49f2-b800-96c95bc47d02",
        "colab": {
          "base_uri": "https://localhost:8080/",
          "height": 489
        }
      },
      "outputs": [
        {
          "output_type": "stream",
          "name": "stdout",
          "text": [
            "R2: 0.3352, Adjusted R2: 0.3256\n"
          ]
        },
        {
          "output_type": "display_data",
          "data": {
            "text/plain": [
              "<Figure size 640x480 with 1 Axes>"
            ],
            "image/png": "[encoded data removed]"
          },
          "metadata": {}
        }
      ],
      "source": [
        "reg_calibrated = LGBMRegressor(**params)\n",
        "reg_calibrated.fit(X_train, Y_train)\n",
        "\n",
        "Y_predict_calibrated = reg_calibrated.predict(X_test)\n",
        "\n",
        "r2_calibrated, adjusted_r2_calibrated = get_scores(reg_calibrated, X_test, Y_test)\n",
        "\n",
        "plot_model(Y_test, Y_predict_calibrated, r2_calibrated, adjusted_r2_calibrated)"
      ]
    },
    {
      "cell_type": "markdown",
      "metadata": {
        "id": "gCTkLdZwEOWA"
      },
      "source": [
        "## Making Predictions for the Test Data Set\n",
        "\n",
        "Building the final model using the entire training data set and make predictions for X_test values"
      ]
    },
    {
      "cell_type": "code",
      "execution_count": 90,
      "metadata": {
        "id": "RD8ytMJrEOWA"
      },
      "outputs": [],
      "source": [
        "# Adjusting data sets\n",
        "X_train_final = np.asarray(df_train)\n",
        "Y_train_final = np.asarray(df_train_all['starts'])\n",
        "X_test_final = np.asarray(df_test)\n",
        "\n",
        "# Building and fitting the model\n",
        "reg_final = LGBMRegressor(**params)\n",
        "reg_final.fit(X_train_final, Y_train_final)\n",
        "\n",
        "# Making predictions\n",
        "Y_predict_final = reg_final.predict(X_test_final)"
      ]
    },
    {
      "cell_type": "markdown",
      "metadata": {
        "id": "9pWLSqAMEOWA"
      },
      "source": [
        "Creating a dataframe for the predictions"
      ]
    },
    {
      "cell_type": "code",
      "execution_count": 91,
      "metadata": {
        "id": "N3vvXA9rEOWA",
        "outputId": "89821d59-c6fe-4dd8-f484-2c0c6909218a",
        "colab": {
          "base_uri": "https://localhost:8080/"
        }
      },
      "outputs": [
        {
          "output_type": "stream",
          "name": "stdout",
          "text": [
            "      key    starts\n",
            "0    6188  1.233524\n",
            "1     273  2.060737\n",
            "2     942  1.387039\n",
            "3    5067  1.556532\n",
            "4     770  2.472524\n",
            "..    ...       ...\n",
            "617  1610  1.514348\n",
            "618  5367  2.133032\n",
            "619  1906  1.514348\n",
            "620  4835  1.336054\n",
            "621  1783  1.514348\n",
            "\n",
            "[622 rows x 2 columns]\n"
          ]
        }
      ],
      "source": [
        "df_predictions = pd.DataFrame()\n",
        "df_predictions['key'] = df_key\n",
        "df_predictions['starts'] = Y_predict_final\n",
        "print(df_predictions)"
      ]
    },
    {
      "cell_type": "markdown",
      "metadata": {
        "id": "g_QTpTKUEOWA"
      },
      "source": [
        "Outputting the dataframe as a .csv file"
      ]
    },
    {
      "cell_type": "code",
      "execution_count": null,
      "metadata": {
        "id": "dpStKZLEEOWB"
      },
      "outputs": [],
      "source": [
        "df_predictions.to_csv(path + 'y_predict.csv', index = False)"
      ]
    }
  ],
  "metadata": {
    "kernelspec": {
      "display_name": "Python 3",
      "language": "python",
      "name": "python3"
    },
    "language_info": {
      "codemirror_mode": {
        "name": "ipython",
        "version": 3
      },
      "file_extension": ".py",
      "mimetype": "text/x-python",
      "name": "python",
      "nbconvert_exporter": "python",
      "pygments_lexer": "ipython3",
      "version": "3.10.8"
    },
    "orig_nbformat": 4,
    "vscode": {
      "interpreter": {
        "hash": "0e94409f89eb4d18013fd8459064d65f938a71770d486618c17f2cd5615b8105"
      }
    },
    "colab": {
      "provenance": []
    }
  },
  "nbformat": 4,
  "nbformat_minor": 0
}